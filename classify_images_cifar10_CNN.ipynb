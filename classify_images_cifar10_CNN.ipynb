{
  "cells": [
    {
      "cell_type": "code",
      "execution_count": 1,
      "metadata": {
        "id": "AMU7NYI3PIhy"
      },
      "outputs": [],
      "source": [
        "import pandas as pd\n",
        "import matplotlib.pyplot as plt\n",
        "import tensorflow as tf\n",
        "from tensorflow.keras import datasets,layers,models"
      ]
    },
    {
      "cell_type": "markdown",
      "metadata": {
        "id": "EFidaSuSS_vF"
      },
      "source": [
        "Load the dataset"
      ]
    },
    {
      "cell_type": "code",
      "execution_count": 2,
      "metadata": {
        "id": "NckqWKtpSvvh",
        "colab": {
          "base_uri": "https://localhost:8080/"
        },
        "outputId": "1b1dc40c-3374-49b3-b482-4b9a02d1e253"
      },
      "outputs": [
        {
          "output_type": "stream",
          "name": "stdout",
          "text": [
            "Downloading data from https://www.cs.toronto.edu/~kriz/cifar-10-python.tar.gz\n",
            "170498071/170498071 [==============================] - 2s 0us/step\n"
          ]
        }
      ],
      "source": [
        "(x_train, y_train), (x_test,y_test) = datasets.cifar10.load_data()"
      ]
    },
    {
      "cell_type": "code",
      "execution_count": 3,
      "metadata": {
        "colab": {
          "base_uri": "https://localhost:8080/"
        },
        "id": "ioVcyLjaTSjd",
        "outputId": "a06f764a-20af-434a-acb4-0fbac30e980f"
      },
      "outputs": [
        {
          "output_type": "execute_result",
          "data": {
            "text/plain": [
              "((50000, 32, 32, 3), (50000, 1))"
            ]
          },
          "metadata": {},
          "execution_count": 3
        }
      ],
      "source": [
        "x_train.shape , y_train.shape"
      ]
    },
    {
      "cell_type": "code",
      "execution_count": 4,
      "metadata": {
        "colab": {
          "base_uri": "https://localhost:8080/"
        },
        "id": "-k5__jLYTj4s",
        "outputId": "580f8495-3631-4913-87ee-630a5773b3ba"
      },
      "outputs": [
        {
          "output_type": "execute_result",
          "data": {
            "text/plain": [
              "((10000, 32, 32, 3), (10000, 1))"
            ]
          },
          "metadata": {},
          "execution_count": 4
        }
      ],
      "source": [
        "x_test.shape,y_test.shape"
      ]
    },
    {
      "cell_type": "code",
      "execution_count": 5,
      "metadata": {
        "colab": {
          "base_uri": "https://localhost:8080/"
        },
        "id": "WEJLHZcvTwE_",
        "outputId": "498e1f9d-5b89-4d24-9aae-7f920581f340"
      },
      "outputs": [
        {
          "output_type": "execute_result",
          "data": {
            "text/plain": [
              "array([[[ 59,  62,  63],\n",
              "        [ 43,  46,  45],\n",
              "        [ 50,  48,  43],\n",
              "        ...,\n",
              "        [158, 132, 108],\n",
              "        [152, 125, 102],\n",
              "        [148, 124, 103]],\n",
              "\n",
              "       [[ 16,  20,  20],\n",
              "        [  0,   0,   0],\n",
              "        [ 18,   8,   0],\n",
              "        ...,\n",
              "        [123,  88,  55],\n",
              "        [119,  83,  50],\n",
              "        [122,  87,  57]],\n",
              "\n",
              "       [[ 25,  24,  21],\n",
              "        [ 16,   7,   0],\n",
              "        [ 49,  27,   8],\n",
              "        ...,\n",
              "        [118,  84,  50],\n",
              "        [120,  84,  50],\n",
              "        [109,  73,  42]],\n",
              "\n",
              "       ...,\n",
              "\n",
              "       [[208, 170,  96],\n",
              "        [201, 153,  34],\n",
              "        [198, 161,  26],\n",
              "        ...,\n",
              "        [160, 133,  70],\n",
              "        [ 56,  31,   7],\n",
              "        [ 53,  34,  20]],\n",
              "\n",
              "       [[180, 139,  96],\n",
              "        [173, 123,  42],\n",
              "        [186, 144,  30],\n",
              "        ...,\n",
              "        [184, 148,  94],\n",
              "        [ 97,  62,  34],\n",
              "        [ 83,  53,  34]],\n",
              "\n",
              "       [[177, 144, 116],\n",
              "        [168, 129,  94],\n",
              "        [179, 142,  87],\n",
              "        ...,\n",
              "        [216, 184, 140],\n",
              "        [151, 118,  84],\n",
              "        [123,  92,  72]]], dtype=uint8)"
            ]
          },
          "metadata": {},
          "execution_count": 5
        }
      ],
      "source": [
        "x_train[0]"
      ]
    },
    {
      "cell_type": "code",
      "execution_count": 6,
      "metadata": {
        "id": "kVp57O3MT0DF"
      },
      "outputs": [],
      "source": [
        "y_train = y_train.reshape(50000)"
      ]
    },
    {
      "cell_type": "code",
      "execution_count": 7,
      "metadata": {
        "colab": {
          "base_uri": "https://localhost:8080/"
        },
        "id": "FXnK0dKIEfAH",
        "outputId": "08fe0c60-66f2-4a5d-d65e-b7c9cdcaa180"
      },
      "outputs": [
        {
          "output_type": "execute_result",
          "data": {
            "text/plain": [
              "6"
            ]
          },
          "metadata": {},
          "execution_count": 7
        }
      ],
      "source": [
        "y_train[0]"
      ]
    },
    {
      "cell_type": "code",
      "execution_count": 8,
      "metadata": {
        "id": "odk1L9WhUGok"
      },
      "outputs": [],
      "source": [
        "classes = [\"airplane\",\"automobile\",\"bird\",\"cat\",\"deer\",\"dog\",\"frog\",\"horse\",\"ship\",\"truck\"]"
      ]
    },
    {
      "cell_type": "code",
      "execution_count": 9,
      "metadata": {
        "id": "tEyAofX1DRyu"
      },
      "outputs": [],
      "source": [
        "def show_img(x,y,index):\n",
        "  plt.figure(figsize=(15,2))\n",
        "  plt.imshow(x[index])\n",
        "  plt.xlabel(classes[y[index]])"
      ]
    },
    {
      "cell_type": "code",
      "execution_count": 10,
      "metadata": {
        "colab": {
          "base_uri": "https://localhost:8080/",
          "height": 237
        },
        "id": "gDJc3D5aDwPX",
        "outputId": "fd406b7b-6c9d-4f45-dd4a-93b890de6d39"
      },
      "outputs": [
        {
          "output_type": "display_data",
          "data": {
            "text/plain": [
              "<Figure size 1500x200 with 1 Axes>"
            ],
            "image/png": "[encoded data removed]"
          },
          "metadata": {}
        }
      ],
      "source": [
        "show_img(x_train,y_train,0)"
      ]
    },
    {
      "cell_type": "code",
      "execution_count": 11,
      "metadata": {
        "colab": {
          "base_uri": "https://localhost:8080/",
          "height": 237
        },
        "id": "p8glc_FeD2Cy",
        "outputId": "b8072f03-4152-4487-bbe5-aa0cedeb168e"
      },
      "outputs": [
        {
          "output_type": "display_data",
          "data": {
            "text/plain": [
              "<Figure size 1500x200 with 1 Axes>"
            ],
            "image/png": "[encoded data removed]"
          },
          "metadata": {}
        }
      ],
      "source": [
        "show_img(x_train,y_train,1)"
      ]
    },
    {
      "cell_type": "code",
      "execution_count": 12,
      "metadata": {
        "colab": {
          "base_uri": "https://localhost:8080/",
          "height": 237
        },
        "id": "t7VVfZdOFD4N",
        "outputId": "e1798369-6f62-4328-88c1-eda7a2e122b2"
      },
      "outputs": [
        {
          "output_type": "display_data",
          "data": {
            "text/plain": [
              "<Figure size 1500x200 with 1 Axes>"
            ],
            "image/png": "[encoded data removed]"
          },
          "metadata": {}
        }
      ],
      "source": [
        "show_img(x_train,y_train,2)"
      ]
    },
    {
      "cell_type": "markdown",
      "metadata": {
        "id": "_r-miDnJFKgs"
      },
      "source": [
        "Normalizing the data\n"
      ]
    },
    {
      "cell_type": "code",
      "execution_count": 13,
      "metadata": {
        "id": "yWXdNVGMFNdT"
      },
      "outputs": [],
      "source": [
        "x_train = x_train /255\n",
        "x_test = x_test /255"
      ]
    },
    {
      "cell_type": "markdown",
      "metadata": {
        "id": "AB5fI5ohFioK"
      },
      "source": [
        "Build a ANN"
      ]
    },
    {
      "cell_type": "code",
      "execution_count": 14,
      "metadata": {
        "id": "D6ODJQwnFkm6"
      },
      "outputs": [],
      "source": [
        "#from keras.api._v2.keras import activations\n",
        "from tensorflow.keras.models import Sequential\n",
        "from tensorflow.keras.layers import Dense , Flatten\n",
        "model = Sequential([\n",
        "\n",
        "    Flatten(input_shape=(32,32,3)),\n",
        "\n",
        "    Dense(3072, activation = \"relu\"),\n",
        "    Dense(2000, activation = \"relu\"),\n",
        "    Dense(10, activation = \"softmax\")\n",
        "])"
      ]
    },
    {
      "cell_type": "code",
      "execution_count": 15,
      "metadata": {
        "id": "0EaGPgxAIHNj"
      },
      "outputs": [],
      "source": [
        "from tensorflow import keras\n",
        "model.compile(\n",
        "    loss = keras.losses.SparseCategoricalCrossentropy(),\n",
        "    optimizer = keras.optimizers.Adam(0.001),\n",
        "    metrics = \"accuracy\"\n",
        ")\n"
      ]
    },
    {
      "cell_type": "code",
      "execution_count": 16,
      "metadata": {
        "colab": {
          "base_uri": "https://localhost:8080/"
        },
        "id": "IcurEkr7JRQ2",
        "outputId": "52f024ab-f6cf-459b-9ea2-536906dae44e"
      },
      "outputs": [
        {
          "output_type": "stream",
          "name": "stdout",
          "text": [
            "Epoch 1/20\n",
            "1563/1563 [==============================] - 15s 6ms/step - loss: 1.8993 - accuracy: 0.3247\n",
            "Epoch 2/20\n",
            "1563/1563 [==============================] - 9s 6ms/step - loss: 1.6923 - accuracy: 0.3908\n",
            "Epoch 3/20\n",
            "1563/1563 [==============================] - 9s 6ms/step - loss: 1.6230 - accuracy: 0.4178\n",
            "Epoch 4/20\n",
            "1563/1563 [==============================] - 9s 6ms/step - loss: 1.5790 - accuracy: 0.4328\n",
            "Epoch 5/20\n",
            "1563/1563 [==============================] - 9s 6ms/step - loss: 1.5513 - accuracy: 0.4454\n",
            "Epoch 6/20\n",
            "1563/1563 [==============================] - 9s 5ms/step - loss: 1.5236 - accuracy: 0.4522\n",
            "Epoch 7/20\n",
            "1563/1563 [==============================] - 9s 6ms/step - loss: 1.5002 - accuracy: 0.4605\n",
            "Epoch 8/20\n",
            "1563/1563 [==============================] - 9s 6ms/step - loss: 1.4823 - accuracy: 0.4674\n",
            "Epoch 9/20\n",
            "1563/1563 [==============================] - 9s 6ms/step - loss: 1.4681 - accuracy: 0.4743\n",
            "Epoch 10/20\n",
            "1563/1563 [==============================] - 9s 6ms/step - loss: 1.4482 - accuracy: 0.4793\n",
            "Epoch 11/20\n",
            "1563/1563 [==============================] - 10s 6ms/step - loss: 1.4373 - accuracy: 0.4860\n",
            "Epoch 12/20\n",
            "1563/1563 [==============================] - 9s 6ms/step - loss: 1.4172 - accuracy: 0.4949\n",
            "Epoch 13/20\n",
            "1563/1563 [==============================] - 9s 6ms/step - loss: 1.4126 - accuracy: 0.4923\n",
            "Epoch 14/20\n",
            "1563/1563 [==============================] - 9s 6ms/step - loss: 1.3980 - accuracy: 0.4990\n",
            "Epoch 15/20\n",
            "1563/1563 [==============================] - 9s 6ms/step - loss: 1.3904 - accuracy: 0.4993\n",
            "Epoch 16/20\n",
            "1563/1563 [==============================] - 9s 6ms/step - loss: 1.3809 - accuracy: 0.5051\n",
            "Epoch 17/20\n",
            "1563/1563 [==============================] - 9s 6ms/step - loss: 1.3694 - accuracy: 0.5067\n",
            "Epoch 18/20\n",
            "1563/1563 [==============================] - 9s 6ms/step - loss: 1.3590 - accuracy: 0.5115\n",
            "Epoch 19/20\n",
            "1563/1563 [==============================] - 9s 6ms/step - loss: 1.3540 - accuracy: 0.5137\n",
            "Epoch 20/20\n",
            "1563/1563 [==============================] - 9s 5ms/step - loss: 1.3390 - accuracy: 0.5191\n"
          ]
        },
        {
          "output_type": "execute_result",
          "data": {
            "text/plain": [
              "<keras.callbacks.History at 0x7e95a48e6230>"
            ]
          },
          "metadata": {},
          "execution_count": 16
        }
      ],
      "source": [
        "model.fit(x_train,y_train,epochs=20)"
      ]
    },
    {
      "cell_type": "code",
      "execution_count": 17,
      "metadata": {
        "id": "4AxnbBX0M0Pk",
        "colab": {
          "base_uri": "https://localhost:8080/"
        },
        "outputId": "1e61ac33-5682-421f-dd75-da4fe556fe77"
      },
      "outputs": [
        {
          "output_type": "stream",
          "name": "stdout",
          "text": [
            "313/313 [==============================] - 1s 3ms/step - loss: 1.5216 - accuracy: 0.4757\n"
          ]
        },
        {
          "output_type": "execute_result",
          "data": {
            "text/plain": [
              "[1.521620273590088, 0.4756999909877777]"
            ]
          },
          "metadata": {},
          "execution_count": 17
        }
      ],
      "source": [
        "model.evaluate(x_test,y_test)"
      ]
    },
    {
      "cell_type": "code",
      "execution_count": 18,
      "metadata": {
        "id": "6QWRcTntKIXi",
        "colab": {
          "base_uri": "https://localhost:8080/"
        },
        "outputId": "daedfd06-aaa2-4b70-f2da-08a3639a247d"
      },
      "outputs": [
        {
          "output_type": "stream",
          "name": "stdout",
          "text": [
            "313/313 [==============================] - 1s 2ms/step\n",
            "Classification Report: \n",
            "               precision    recall  f1-score   support\n",
            "\n",
            "           0       0.51      0.60      0.55      1000\n",
            "           1       0.47      0.72      0.57      1000\n",
            "           2       0.42      0.25      0.31      1000\n",
            "           3       0.33      0.33      0.33      1000\n",
            "           4       0.43      0.37      0.40      1000\n",
            "           5       0.41      0.35      0.38      1000\n",
            "           6       0.52      0.52      0.52      1000\n",
            "           7       0.50      0.54      0.52      1000\n",
            "           8       0.61      0.58      0.59      1000\n",
            "           9       0.52      0.49      0.51      1000\n",
            "\n",
            "    accuracy                           0.48     10000\n",
            "   macro avg       0.47      0.48      0.47     10000\n",
            "weighted avg       0.47      0.48      0.47     10000\n",
            "\n"
          ]
        }
      ],
      "source": [
        "from sklearn.metrics import confusion_matrix , classification_report\n",
        "import numpy as np\n",
        "y_pred = model.predict(x_test)\n",
        "y_pred_classes = [np.argmax(element) for element in y_pred]\n",
        "\n",
        "print(\"Classification Report: \\n\", classification_report(y_test, y_pred_classes))"
      ]
    },
    {
      "cell_type": "markdown",
      "metadata": {
        "id": "4pj-eMj32FjD"
      },
      "source": [
        "ANN is performing very bad hear\n",
        "now let's train CNN"
      ]
    },
    {
      "cell_type": "code",
      "execution_count": 19,
      "metadata": {
        "id": "oFjnLEKBMuNQ"
      },
      "outputs": [],
      "source": [
        "from keras.api._v2.keras import activations\n",
        "cnn = models.Sequential([\n",
        "    #CNN Layers\n",
        "    layers.Conv2D(filters=32 , kernel_size = (3,3) , activation = \"relu\" , input_shape = (32,32,3)),\n",
        "    layers.MaxPooling2D((2,2)),\n",
        "\n",
        "    layers.Conv2D(filters=64, kernel_size = (3,3) , activation = \"relu\" , input_shape = (32,32,3)),\n",
        "    layers.MaxPooling2D((2,2)),\n",
        "\n",
        "    #ANN\n",
        "    layers.Flatten(),\n",
        "    layers.Dense(32 , activation=\"relu\"),\n",
        "    layers.Dense(64 , activation=\"relu\"),\n",
        "    layers.Dense(10 , activation=\"softmax\")\n",
        "\n",
        "])"
      ]
    },
    {
      "cell_type": "code",
      "execution_count": 20,
      "metadata": {
        "id": "5ve1Qg-H4lOW"
      },
      "outputs": [],
      "source": [
        "cnn.compile(optimizer='adam',\n",
        "              loss='sparse_categorical_crossentropy',\n",
        "              metrics=['accuracy'])"
      ]
    },
    {
      "cell_type": "code",
      "execution_count": 21,
      "metadata": {
        "colab": {
          "base_uri": "https://localhost:8080/"
        },
        "id": "-_Be516m4o8H",
        "outputId": "d9a3aec3-a5fc-4e33-a2c0-e6fe12ae5001"
      },
      "outputs": [
        {
          "output_type": "stream",
          "name": "stdout",
          "text": [
            "Epoch 1/10\n",
            "1563/1563 [==============================] - 15s 5ms/step - loss: 1.6548 - accuracy: 0.3785\n",
            "Epoch 2/10\n",
            "1563/1563 [==============================] - 7s 4ms/step - loss: 1.3516 - accuracy: 0.4977\n",
            "Epoch 3/10\n",
            "1563/1563 [==============================] - 7s 5ms/step - loss: 1.2324 - accuracy: 0.5457\n",
            "Epoch 4/10\n",
            "1563/1563 [==============================] - 7s 4ms/step - loss: 1.1554 - accuracy: 0.5773\n",
            "Epoch 5/10\n",
            "1563/1563 [==============================] - 7s 5ms/step - loss: 1.0846 - accuracy: 0.6055\n",
            "Epoch 6/10\n",
            "1563/1563 [==============================] - 7s 5ms/step - loss: 1.0203 - accuracy: 0.6317\n",
            "Epoch 7/10\n",
            "1563/1563 [==============================] - 7s 4ms/step - loss: 0.9694 - accuracy: 0.6524\n",
            "Epoch 8/10\n",
            "1563/1563 [==============================] - 8s 5ms/step - loss: 0.9363 - accuracy: 0.6645\n",
            "Epoch 9/10\n",
            "1563/1563 [==============================] - 7s 4ms/step - loss: 0.9068 - accuracy: 0.6751\n",
            "Epoch 10/10\n",
            "1563/1563 [==============================] - 7s 5ms/step - loss: 0.8822 - accuracy: 0.6851\n"
          ]
        },
        {
          "output_type": "execute_result",
          "data": {
            "text/plain": [
              "<keras.callbacks.History at 0x7e94a8fcca90>"
            ]
          },
          "metadata": {},
          "execution_count": 21
        }
      ],
      "source": [
        "cnn.fit(x_train, y_train, epochs=10)"
      ]
    },
    {
      "cell_type": "code",
      "execution_count": 22,
      "metadata": {
        "id": "5fpY4d8r5RVG",
        "colab": {
          "base_uri": "https://localhost:8080/"
        },
        "outputId": "f2fff284-20ea-46ab-b406-247e08336ecf"
      },
      "outputs": [
        {
          "output_type": "stream",
          "name": "stdout",
          "text": [
            "313/313 [==============================] - 1s 3ms/step - loss: 0.9802 - accuracy: 0.6591\n"
          ]
        },
        {
          "output_type": "execute_result",
          "data": {
            "text/plain": [
              "[0.9802440404891968, 0.6590999960899353]"
            ]
          },
          "metadata": {},
          "execution_count": 22
        }
      ],
      "source": [
        "cnn.evaluate(x_test,y_test)"
      ]
    },
    {
      "cell_type": "code",
      "execution_count": 23,
      "metadata": {
        "id": "fYKDsWKH5ZcW",
        "colab": {
          "base_uri": "https://localhost:8080/"
        },
        "outputId": "bad9763a-447a-4151-98cb-1788467dfc54"
      },
      "outputs": [
        {
          "output_type": "stream",
          "name": "stdout",
          "text": [
            "313/313 [==============================] - 1s 2ms/step\n",
            "Classification Report: \n",
            "               precision    recall  f1-score   support\n",
            "\n",
            "           0       0.66      0.76      0.71      1000\n",
            "           1       0.72      0.81      0.76      1000\n",
            "           2       0.52      0.50      0.51      1000\n",
            "           3       0.44      0.43      0.43      1000\n",
            "           4       0.60      0.61      0.60      1000\n",
            "           5       0.57      0.56      0.57      1000\n",
            "           6       0.71      0.77      0.74      1000\n",
            "           7       0.75      0.72      0.73      1000\n",
            "           8       0.82      0.75      0.78      1000\n",
            "           9       0.81      0.68      0.74      1000\n",
            "\n",
            "    accuracy                           0.66     10000\n",
            "   macro avg       0.66      0.66      0.66     10000\n",
            "weighted avg       0.66      0.66      0.66     10000\n",
            "\n"
          ]
        }
      ],
      "source": [
        "from sklearn.metrics import confusion_matrix , classification_report\n",
        "import numpy as np\n",
        "y_pred = cnn.predict(x_test)\n",
        "y_pred_classes = [np.argmax(element) for element in y_pred]\n",
        "\n",
        "print(\"Classification Report: \\n\", classification_report(y_test, y_pred_classes))"
      ]
    },
    {
      "cell_type": "markdown",
      "source": [
        "You can clearlly see that CNN works much better then ANN for image data"
      ],
      "metadata": {
        "id": "7pMDPt1RQDlw"
      }
    },
    {
      "cell_type": "code",
      "source": [
        "y_pred_classes[:5]"
      ],
      "metadata": {
        "colab": {
          "base_uri": "https://localhost:8080/"
        },
        "id": "Js1hoNLaHiF_",
        "outputId": "88397e68-5599-4974-ffd8-67bfa29d5d73"
      },
      "execution_count": 24,
      "outputs": [
        {
          "output_type": "execute_result",
          "data": {
            "text/plain": [
              "[3, 8, 8, 0, 6]"
            ]
          },
          "metadata": {},
          "execution_count": 24
        }
      ]
    },
    {
      "cell_type": "code",
      "source": [
        "y_test[:5]"
      ],
      "metadata": {
        "colab": {
          "base_uri": "https://localhost:8080/"
        },
        "id": "XR0yOidXHsIg",
        "outputId": "a0396f93-c160-4684-863f-51872aeb5d8d"
      },
      "execution_count": 25,
      "outputs": [
        {
          "output_type": "execute_result",
          "data": {
            "text/plain": [
              "array([[3],\n",
              "       [8],\n",
              "       [8],\n",
              "       [0],\n",
              "       [6]], dtype=uint8)"
            ]
          },
          "metadata": {},
          "execution_count": 25
        }
      ]
    },
    {
      "cell_type": "markdown",
      "source": [
        "Now testing the model for any random image"
      ],
      "metadata": {
        "id": "05a4Qk7qQT5G"
      }
    },
    {
      "cell_type": "code",
      "source": [
        "from PIL import Image\n",
        "import numpy as np\n",
        "\n",
        "def load_and_resize_image(image_path, target_size=(32, 32)):\n",
        "    # Step 1: Load the image using Pillow\n",
        "    img = Image.open(image_path)\n",
        "\n",
        "    # Step 2: Resize the image to the target size\n",
        "    img = img.resize(target_size, Image.ANTIALIAS)\n",
        "\n",
        "    # Step 3: Convert to numpy array\n",
        "    img_array = np.array(img)\n",
        "\n",
        "    # Step 4 (Optional): Normalize the pixel values to [0, 1]\n",
        "    img_array = img_array.astype('float32') / 255.0\n",
        "\n",
        "    return img_array"
      ],
      "metadata": {
        "id": "7_Msi_eMXiDl"
      },
      "execution_count": 26,
      "outputs": []
    },
    {
      "cell_type": "code",
      "source": [
        "a = load_and_resize_image(\"/content/f.jpeg\" , target_size=(32, 32))"
      ],
      "metadata": {
        "id": "itguukttJMEt"
      },
      "execution_count": 27,
      "outputs": []
    },
    {
      "cell_type": "code",
      "source": [
        "a"
      ],
      "metadata": {
        "colab": {
          "base_uri": "https://localhost:8080/"
        },
        "id": "fHvevLAKJp26",
        "outputId": "fa792637-1cc6-40c3-ebf4-b71e45226aa2"
      },
      "execution_count": 28,
      "outputs": [
        {
          "output_type": "execute_result",
          "data": {
            "text/plain": [
              "array([[[0.9254902 , 0.94509804, 0.81960785],\n",
              "        [0.7372549 , 0.8352941 , 0.61960787],\n",
              "        [0.5019608 , 0.7411765 , 0.4392157 ],\n",
              "        ...,\n",
              "        [0.02745098, 0.01176471, 0.04313726],\n",
              "        [0.23921569, 0.16862746, 0.19215687],\n",
              "        [0.38431373, 0.25490198, 0.27058825]],\n",
              "\n",
              "       [[0.7019608 , 0.84313726, 0.6745098 ],\n",
              "        [0.59607846, 0.75686276, 0.5254902 ],\n",
              "        [0.49803922, 0.73333335, 0.3764706 ],\n",
              "        ...,\n",
              "        [0.01960784, 0.01568628, 0.03921569],\n",
              "        [0.23137255, 0.17254902, 0.1882353 ],\n",
              "        [0.37254903, 0.27058825, 0.29411766]],\n",
              "\n",
              "       [[0.65882355, 0.7882353 , 0.627451  ],\n",
              "        [0.627451  , 0.73333335, 0.6431373 ],\n",
              "        [0.5372549 , 0.7254902 , 0.46666667],\n",
              "        ...,\n",
              "        [0.02745098, 0.03921569, 0.05490196],\n",
              "        [0.22352941, 0.18039216, 0.20392157],\n",
              "        [0.3137255 , 0.22745098, 0.23921569]],\n",
              "\n",
              "       ...,\n",
              "\n",
              "       [[0.69803923, 0.7490196 , 0.5529412 ],\n",
              "        [0.59607846, 0.6509804 , 0.5176471 ],\n",
              "        [0.5529412 , 0.5568628 , 0.5058824 ],\n",
              "        ...,\n",
              "        [0.4862745 , 0.61960787, 0.39607844],\n",
              "        [0.38431373, 0.50980395, 0.3137255 ],\n",
              "        [0.40392157, 0.5254902 , 0.30980393]],\n",
              "\n",
              "       [[0.60784316, 0.65882355, 0.5921569 ],\n",
              "        [0.5529412 , 0.54509807, 0.49411765],\n",
              "        [0.52156866, 0.50980395, 0.44705883],\n",
              "        ...,\n",
              "        [0.43137255, 0.5137255 , 0.34509805],\n",
              "        [0.43529412, 0.46666667, 0.34117648],\n",
              "        [0.36862746, 0.4509804 , 0.33333334]],\n",
              "\n",
              "       [[0.5803922 , 0.62352943, 0.59607846],\n",
              "        [0.52156866, 0.5254902 , 0.45490196],\n",
              "        [0.49411765, 0.47058824, 0.4       ],\n",
              "        ...,\n",
              "        [0.5882353 , 0.56078434, 0.44705883],\n",
              "        [0.5647059 , 0.5058824 , 0.43529412],\n",
              "        [0.40392157, 0.4       , 0.30980393]]], dtype=float32)"
            ]
          },
          "metadata": {},
          "execution_count": 28
        }
      ]
    },
    {
      "cell_type": "code",
      "source": [
        "plt.figure(figsize=(15,2))\n",
        "plt.imshow(a)"
      ],
      "metadata": {
        "colab": {
          "base_uri": "https://localhost:8080/",
          "height": 234
        },
        "id": "Qgo1fI4NJqiz",
        "outputId": "b2984a02-1ed7-4110-a563-3356b6502653"
      },
      "execution_count": 29,
      "outputs": [
        {
          "output_type": "execute_result",
          "data": {
            "text/plain": [
              "<matplotlib.image.AxesImage at 0x7e94a8f85f00>"
            ]
          },
          "metadata": {},
          "execution_count": 29
        },
        {
          "output_type": "display_data",
          "data": {
            "text/plain": [
              "<Figure size 1500x200 with 1 Axes>"
            ],
            "image/png": "[encoded data removed]"
          },
          "metadata": {}
        }
      ]
    },
    {
      "cell_type": "code",
      "source": [
        "a = a/255"
      ],
      "metadata": {
        "id": "QzzQTVyPJ8aS"
      },
      "execution_count": 30,
      "outputs": []
    },
    {
      "cell_type": "code",
      "source": [
        "a"
      ],
      "metadata": {
        "colab": {
          "base_uri": "https://localhost:8080/"
        },
        "id": "saXjf5ShMdtH",
        "outputId": "d5a4d69b-e7ad-4ddb-9384-398d4282f2f2"
      },
      "execution_count": 31,
      "outputs": [
        {
          "output_type": "execute_result",
          "data": {
            "text/plain": [
              "array([[[3.6293734e-03, 3.7062669e-03, 3.2141483e-03],\n",
              "        [2.8911957e-03, 3.2756634e-03, 2.4298348e-03],\n",
              "        [1.9684739e-03, 2.9065744e-03, 1.7224145e-03],\n",
              "        ...,\n",
              "        [1.0765091e-04, 4.6136101e-05, 1.6916571e-04],\n",
              "        [9.3810074e-04, 6.6128414e-04, 7.5355632e-04],\n",
              "        [1.5071126e-03, 9.9961564e-04, 1.0611304e-03]],\n",
              "\n",
              "       [[2.7527874e-03, 3.3064208e-03, 2.6451366e-03],\n",
              "        [2.3375626e-03, 2.9680892e-03, 2.0607461e-03],\n",
              "        [1.9530950e-03, 2.8758170e-03, 1.4763552e-03],\n",
              "        ...,\n",
              "        [7.6893506e-05, 6.1514809e-05, 1.5378701e-04],\n",
              "        [9.0734335e-04, 6.7666284e-04, 7.3817762e-04],\n",
              "        [1.4609765e-03, 1.0611304e-03, 1.1534026e-03]],\n",
              "\n",
              "       [[2.5836218e-03, 3.0911188e-03, 2.4605922e-03],\n",
              "        [2.4605922e-03, 2.8758170e-03, 2.5221070e-03],\n",
              "        [2.1068822e-03, 2.8450596e-03, 1.8300654e-03],\n",
              "        ...,\n",
              "        [1.0765091e-04, 1.5378701e-04, 2.1530181e-04],\n",
              "        [8.7658595e-04, 7.0742023e-04, 7.9969241e-04],\n",
              "        [1.2302961e-03, 8.9196465e-04, 9.3810074e-04]],\n",
              "\n",
              "       ...,\n",
              "\n",
              "       [[2.7374087e-03, 2.9373318e-03, 2.1683970e-03],\n",
              "        [2.3375626e-03, 2.5528644e-03, 2.0299887e-03],\n",
              "        [2.1683970e-03, 2.1837757e-03, 1.9838526e-03],\n",
              "        ...,\n",
              "        [1.9069589e-03, 2.4298348e-03, 1.5532487e-03],\n",
              "        [1.5071126e-03, 1.9992313e-03, 1.2302961e-03],\n",
              "        [1.5840061e-03, 2.0607461e-03, 1.2149174e-03]],\n",
              "\n",
              "       [[2.3836987e-03, 2.5836218e-03, 2.3221839e-03],\n",
              "        [2.1683970e-03, 2.1376396e-03, 1.9377163e-03],\n",
              "        [2.0453674e-03, 1.9992313e-03, 1.7531719e-03],\n",
              "        ...,\n",
              "        [1.6916571e-03, 2.0146100e-03, 1.3533257e-03],\n",
              "        [1.7070358e-03, 1.8300654e-03, 1.3379470e-03],\n",
              "        [1.4455979e-03, 1.7685506e-03, 1.3071896e-03]],\n",
              "\n",
              "       [[2.2760478e-03, 2.4452135e-03, 2.3375626e-03],\n",
              "        [2.0453674e-03, 2.0607461e-03, 1.7839293e-03],\n",
              "        [1.9377163e-03, 1.8454441e-03, 1.5686274e-03],\n",
              "        ...,\n",
              "        [2.3068052e-03, 2.1991543e-03, 1.7531719e-03],\n",
              "        [2.2145330e-03, 1.9838526e-03, 1.7070358e-03],\n",
              "        [1.5840061e-03, 1.5686274e-03, 1.2149174e-03]]], dtype=float32)"
            ]
          },
          "metadata": {},
          "execution_count": 31
        }
      ]
    },
    {
      "cell_type": "code",
      "source": [
        "a.shape"
      ],
      "metadata": {
        "colab": {
          "base_uri": "https://localhost:8080/"
        },
        "id": "x49UPSp1J-qI",
        "outputId": "38cb7a1f-13ab-44ec-9368-97e34f843951"
      },
      "execution_count": 32,
      "outputs": [
        {
          "output_type": "execute_result",
          "data": {
            "text/plain": [
              "(32, 32, 3)"
            ]
          },
          "metadata": {},
          "execution_count": 32
        }
      ]
    },
    {
      "cell_type": "code",
      "source": [
        "a = np.expand_dims(a, axis=0)\n",
        "a.shape"
      ],
      "metadata": {
        "colab": {
          "base_uri": "https://localhost:8080/"
        },
        "id": "0pZ-dZ-kNbN_",
        "outputId": "5f041198-d0e1-4452-c51d-56099da36910"
      },
      "execution_count": 33,
      "outputs": [
        {
          "output_type": "execute_result",
          "data": {
            "text/plain": [
              "(1, 32, 32, 3)"
            ]
          },
          "metadata": {},
          "execution_count": 33
        }
      ]
    },
    {
      "cell_type": "code",
      "source": [
        "cla = cnn.predict(x=a)"
      ],
      "metadata": {
        "colab": {
          "base_uri": "https://localhost:8080/"
        },
        "id": "l7QsyHoyKCae",
        "outputId": "6d9dfa51-7a7c-48fb-aed2-fd7e55aa5ce9"
      },
      "execution_count": 34,
      "outputs": [
        {
          "output_type": "stream",
          "name": "stdout",
          "text": [
            "1/1 [==============================] - 0s 89ms/step\n"
          ]
        }
      ]
    },
    {
      "cell_type": "code",
      "source": [
        "cla = np.argmax(cla)"
      ],
      "metadata": {
        "id": "foM7eyZbLfCO"
      },
      "execution_count": 35,
      "outputs": []
    },
    {
      "cell_type": "code",
      "source": [
        "classes[cla]"
      ],
      "metadata": {
        "colab": {
          "base_uri": "https://localhost:8080/",
          "height": 36
        },
        "id": "sY-nBYnqO0Vg",
        "outputId": "0a9ebf82-9a60-44b8-9330-5b9ebe86e978"
      },
      "execution_count": 36,
      "outputs": [
        {
          "output_type": "execute_result",
          "data": {
            "text/plain": [
              "'cat'"
            ],
            "application/vnd.google.colaboratory.intrinsic+json": {
              "type": "string"
            }
          },
          "metadata": {},
          "execution_count": 36
        }
      ]
    },
    {
      "cell_type": "markdown",
      "source": [
        "Writteing function to do this all task"
      ],
      "metadata": {
        "id": "SpauzfeqX8QF"
      }
    },
    {
      "cell_type": "code",
      "source": [
        "from PIL import Image\n",
        "import numpy as np\n",
        "\n",
        "def load_and_resize_image_ready_for_model_input(image_path, target_size=(32, 32)):\n",
        "    # Step 1: Load the image using Pillow\n",
        "    img = Image.open(image_path)\n",
        "\n",
        "    # Step 2: Resize the image to the target size\n",
        "    img = img.resize(target_size, Image.ANTIALIAS)\n",
        "\n",
        "    # Step 3: Convert to numpy array\n",
        "    img_array = np.array(img)\n",
        "\n",
        "    # Step 4 (Optional): Normalize the pixel values to [0, 1]\n",
        "    #img_array = img_array.astype('float32') / 255.0\n",
        "\n",
        "    #Showing image\n",
        "    plt.figure(figsize=(15,2))\n",
        "    plt.imshow(img_array)\n",
        "\n",
        "    #normalizing image\n",
        "    img_array = img_array/255\n",
        "\n",
        "    #Expand dimension\n",
        "    img_array = np.expand_dims(img_array, axis=0)\n",
        "\n",
        "\n",
        "    return img_array"
      ],
      "metadata": {
        "id": "t7phYn-DH2XV"
      },
      "execution_count": 37,
      "outputs": []
    },
    {
      "cell_type": "code",
      "source": [
        "img = load_and_resize_image_ready_for_model_input(\"/content/f.jpeg\" , target_size=(32,32))"
      ],
      "metadata": {
        "colab": {
          "base_uri": "https://localhost:8080/",
          "height": 217
        },
        "id": "thOcEBeNRJAB",
        "outputId": "7893a22b-ddf7-4033-c559-cc030b3fbd0f"
      },
      "execution_count": 38,
      "outputs": [
        {
          "output_type": "display_data",
          "data": {
            "text/plain": [
              "<Figure size 1500x200 with 1 Axes>"
            ],
            "image/png": "[encoded data removed]"
          },
          "metadata": {}
        }
      ]
    },
    {
      "cell_type": "code",
      "source": [
        "def label(model , img):\n",
        "  lab = model.predict(img)\n",
        "  lab = np.argmax(lab)\n",
        "  return classes[lab]"
      ],
      "metadata": {
        "id": "SbxklJ2iRTsr"
      },
      "execution_count": 39,
      "outputs": []
    },
    {
      "cell_type": "code",
      "source": [
        "print(label(cnn,img))"
      ],
      "metadata": {
        "colab": {
          "base_uri": "https://localhost:8080/"
        },
        "id": "BuYIq6Z4S_CK",
        "outputId": "ebe6b578-8e14-4f42-995e-e6cc9854d0c2"
      },
      "execution_count": 41,
      "outputs": [
        {
          "output_type": "stream",
          "name": "stdout",
          "text": [
            "1/1 [==============================] - 0s 40ms/step\n",
            "frog\n"
          ]
        }
      ]
    },
    {
      "cell_type": "code",
      "source": [],
      "metadata": {
        "id": "NMy9tY6s7695"
      },
      "execution_count": null,
      "outputs": []
    }
  ],
  "metadata": {
    "accelerator": "GPU",
    "colab": {
      "provenance": []
    },
    "kernelspec": {
      "display_name": "Python 3",
      "name": "python3"
    },
    "language_info": {
      "name": "python"
    }
  },
  "nbformat": 4,
  "nbformat_minor": 0
}